{
 "cells": [
  {
   "cell_type": "markdown",
   "metadata": {},
   "source": [
    "# Hacker News Project"
   ]
  },
  {
   "cell_type": "markdown",
   "metadata": {},
   "source": [
    "In this project we will be looking at the posts on the site called Hacker News.  There are two main types of posts that receive most of the attention on this site and those are Ask HN and Show HN which is simply posting something or asking a question similar to on reddit."
   ]
  },
  {
   "cell_type": "markdown",
   "metadata": {},
   "source": [
    "## Upload and creating list of list\n",
    "\n",
    "Here we simply upload the [dataset](https://www.kaggle.com/hacker-news/hacker-news-posts/data#) for Hacker News Posts found on kaggle.  We also read it in as a list of list format for easy manipulation."
   ]
  },
  {
   "cell_type": "code",
   "execution_count": 1,
   "metadata": {},
   "outputs": [
    {
     "name": "stdout",
     "output_type": "stream",
     "text": [
      "[['id', 'title', 'url', 'num_points', 'num_comments', 'author', 'created_at'], ['12579008', 'You have two days to comment if you want stem cells to be classified as your own', 'http://www.regulations.gov/document?D=FDA-2015-D-3719-0018', '1', '0', 'altstar', '9/26/2016 3:26'], ['12579005', 'SQLAR  the SQLite Archiver', 'https://www.sqlite.org/sqlar/doc/trunk/README.md', '1', '0', 'blacksqr', '9/26/2016 3:24'], ['12578997', 'What if we just printed a flatscreen television on the side of our boxes?', 'https://medium.com/vanmoof/our-secrets-out-f21c1f03fdc8#.ietxmez43', '1', '0', 'pavel_lishin', '9/26/2016 3:19'], ['12578989', 'algorithmic music', 'http://cacm.acm.org/magazines/2011/7/109891-algorithmic-composition/fulltext', '1', '0', 'poindontcare', '9/26/2016 3:16']]\n"
     ]
    }
   ],
   "source": [
    "from csv import reader\n",
    "opened_file = open('HN_posts.csv', encoding ='utf8')\n",
    "read_file = reader(opened_file)\n",
    "hn = list(read_file)\n",
    "\n",
    "print(hn[0:5])"
   ]
  },
  {
   "cell_type": "markdown",
   "metadata": {},
   "source": [
    "## Removing Headers"
   ]
  },
  {
   "cell_type": "code",
   "execution_count": 2,
   "metadata": {},
   "outputs": [
    {
     "name": "stdout",
     "output_type": "stream",
     "text": [
      "['id', 'title', 'url', 'num_points', 'num_comments', 'author', 'created_at']\n",
      "[['12579008', 'You have two days to comment if you want stem cells to be classified as your own', 'http://www.regulations.gov/document?D=FDA-2015-D-3719-0018', '1', '0', 'altstar', '9/26/2016 3:26'], ['12579005', 'SQLAR  the SQLite Archiver', 'https://www.sqlite.org/sqlar/doc/trunk/README.md', '1', '0', 'blacksqr', '9/26/2016 3:24'], ['12578997', 'What if we just printed a flatscreen television on the side of our boxes?', 'https://medium.com/vanmoof/our-secrets-out-f21c1f03fdc8#.ietxmez43', '1', '0', 'pavel_lishin', '9/26/2016 3:19'], ['12578989', 'algorithmic music', 'http://cacm.acm.org/magazines/2011/7/109891-algorithmic-composition/fulltext', '1', '0', 'poindontcare', '9/26/2016 3:16'], ['12578979', 'How the Data Vault Enables the Next-Gen Data Warehouse and Data Lake', 'https://www.talend.com/blog/2016/05/12/talend-and-Â\\x93the-data-vaultÂ\\x94', '1', '0', 'markgainor1', '9/26/2016 3:14']]\n"
     ]
    }
   ],
   "source": [
    "headers = hn[0]\n",
    "\n",
    "print(headers)\n",
    "\n",
    "hn = hn[1:]\n",
    "\n",
    "print(hn[0:5])\n"
   ]
  },
  {
   "cell_type": "markdown",
   "metadata": {},
   "source": [
    "## Filtering Data"
   ]
  },
  {
   "cell_type": "markdown",
   "metadata": {},
   "source": [
    "The next step is to sort the posts into sets.  The sets that we will be looking at are question related posts and show posts.\n"
   ]
  },
  {
   "cell_type": "code",
   "execution_count": 3,
   "metadata": {},
   "outputs": [
    {
     "name": "stdout",
     "output_type": "stream",
     "text": [
      "[['12578908', 'Ask HN: What TLD do you use for local development?', '', '4', '7', 'Sevrene', '9/26/2016 2:53'], ['12578522', 'Ask HN: How do you pass on your work when you die?', '', '6', '3', 'PascLeRasc', '9/26/2016 1:17'], ['12577908', 'Ask HN: How a DNS problem can be limited to a geographic region?', '', '1', '0', 'kuon', '9/25/2016 22:57'], ['12577870', 'Ask HN: Why join a fund when you can be an angel?', '', '1', '3', 'anthony_james', '9/25/2016 22:48'], ['12577647', 'Ask HN: Someone uses stock trading as passive income?', '', '5', '2', '00taffe', '9/25/2016 21:50']]\n",
      "9139\n",
      "[['12578335', 'Show HN: Finding puns computationally', 'http://puns.samueltaylor.org/', '2', '0', 'saamm', '9/26/2016 0:36'], ['12578182', 'Show HN: A simple library for complicated animations', 'https://christinecha.github.io/choreographer-js/', '1', '0', 'christinecha', '9/26/2016 0:01'], ['12578098', 'Show HN: WebGL visualization of DNA sequences', 'http://grondilu.github.io/dna.html', '1', '0', 'grondilu', '9/25/2016 23:44'], ['12577991', 'Show HN: Pomodoro-centric, heirarchical project management with ES6 modules', 'https://github.com/jakebian/zeal', '2', '0', 'dbranes', '9/25/2016 23:17'], ['12577142', 'Show HN: Jumble  Essays on the go #PaulInYourPocket', 'https://itunes.apple.com/us/app/jumble-find-startup-essay/id1150939197?ls=1&mt=8', '1', '1', 'ryderj', '9/25/2016 20:06']]\n",
      "10158\n",
      "[['12579008', 'You have two days to comment if you want stem cells to be classified as your own', 'http://www.regulations.gov/document?D=FDA-2015-D-3719-0018', '1', '0', 'altstar', '9/26/2016 3:26'], ['12579005', 'SQLAR  the SQLite Archiver', 'https://www.sqlite.org/sqlar/doc/trunk/README.md', '1', '0', 'blacksqr', '9/26/2016 3:24'], ['12578997', 'What if we just printed a flatscreen television on the side of our boxes?', 'https://medium.com/vanmoof/our-secrets-out-f21c1f03fdc8#.ietxmez43', '1', '0', 'pavel_lishin', '9/26/2016 3:19'], ['12578989', 'algorithmic music', 'http://cacm.acm.org/magazines/2011/7/109891-algorithmic-composition/fulltext', '1', '0', 'poindontcare', '9/26/2016 3:16'], ['12578979', 'How the Data Vault Enables the Next-Gen Data Warehouse and Data Lake', 'https://www.talend.com/blog/2016/05/12/talend-and-Â\\x93the-data-vaultÂ\\x94', '1', '0', 'markgainor1', '9/26/2016 3:14']]\n",
      "273822\n"
     ]
    }
   ],
   "source": [
    "ask_posts = []\n",
    "\n",
    "show_posts = []\n",
    "\n",
    "other_posts = []\n",
    "\n",
    "\n",
    "\n",
    "for row in hn:\n",
    "    title = row[1]\n",
    "    if title.lower().startswith('ask hn'):\n",
    "        ask_posts.append(row)\n",
    "    elif title.lower().startswith('show hn'):\n",
    "        show_posts.append(row)\n",
    "    else:\n",
    "        other_posts.append(row)\n",
    "        \n",
    "        \n",
    "print(ask_posts[:5])\n",
    "print(len(ask_posts))\n",
    "\n",
    "print(show_posts[:5])\n",
    "print(len(show_posts))\n",
    "\n",
    "print(other_posts[:5])\n",
    "print(len(other_posts))\n"
   ]
  },
  {
   "cell_type": "markdown",
   "metadata": {},
   "source": [
    "## Determining posts receive more comments on average\n",
    "\n"
   ]
  },
  {
   "cell_type": "code",
   "execution_count": 4,
   "metadata": {},
   "outputs": [
    {
     "name": "stdout",
     "output_type": "stream",
     "text": [
      "Average number of ask comments: 10.393478498741656\n",
      "\n",
      "\n",
      "Average number of show comments: 4.886099625910612\n"
     ]
    }
   ],
   "source": [
    "total_ask_comments = 0\n",
    "\n",
    "for row in ask_posts:\n",
    "    num_comments = int(row[4])\n",
    "    \n",
    "    total_ask_comments += num_comments\n",
    "    \n",
    "avg_ask_comments = total_ask_comments/int(len(ask_posts))  #simply dividing the number of total ask comments by the number of ask posts\n",
    "\n",
    "print('Average number of ask comments: ' + str(avg_ask_comments))\n",
    "\n",
    "\n",
    "total_show_comments = 0\n",
    "\n",
    "for row in show_posts:\n",
    "    num_comments = int(row[4])\n",
    "    \n",
    "    total_show_comments += num_comments\n",
    "    \n",
    "avg_show_comments = total_show_comments/int(len(show_posts))  #dividing total show comments by the number of show posts\n",
    "\n",
    "print(\"\\n\")\n",
    "\n",
    "print('Average number of show comments: ' + str(avg_show_comments))\n",
    "\n",
    "\n",
    "    \n",
    "    "
   ]
  },
  {
   "cell_type": "markdown",
   "metadata": {},
   "source": [
    "From this brief analysis the data shows that on average ask posts receive over twice as many comments as show posts do.  This makes sense since the purpose behind an ask post is to receive a direct response to a question while show posts may only encourage comments if individuals feel strongly enough to comment they're feelings about the show post."
   ]
  },
  {
   "cell_type": "markdown",
   "metadata": {},
   "source": [
    "## Determining the time of day that posts receive the most comments on"
   ]
  },
  {
   "cell_type": "markdown",
   "metadata": {},
   "source": [
    "Next, the data can show what time to post a question to ensure that it will receive the most amount of comments.  First, we need to calculate the amount of ask posts that are created at any given time of day.  For simplicity, posts will be sorted into different groups by the hour of the day they were posted.  Then, calculating the average amount of comments ask posts receive each hour."
   ]
  },
  {
   "cell_type": "code",
   "execution_count": 5,
   "metadata": {},
   "outputs": [
    {
     "name": "stdout",
     "output_type": "stream",
     "text": [
      "This is a dictionary of all of the posts that are submitted in a given hour:\n",
      "{'02': 270, '01': 283, '22': 384, '21': 519, '19': 553, '17': 588, '15': 647, '14': 514, '13': 445, '11': 313, '10': 283, '09': 223, '07': 227, '03': 272, '23': 344, '20': 511, '16': 580, '08': 258, '00': 302, '18': 615, '12': 343, '04': 244, '06': 235, '05': 210}\n",
      "\n",
      "\n",
      "This is a dictionary of all the comments that are submitted in a given hour:\n",
      "{'02': 3003, '01': 2092, '22': 3372, '21': 4502, '19': 3955, '17': 5550, '15': 18525, '14': 4972, '13': 7247, '11': 2799, '10': 3013, '09': 1574, '07': 1589, '03': 2155, '23': 2297, '20': 4462, '16': 4466, '08': 2369, '00': 2279, '18': 4889, '12': 4240, '04': 2362, '06': 1588, '05': 1838}\n"
     ]
    }
   ],
   "source": [
    "import datetime as dt\n",
    "\n",
    "result_list = []\n",
    "\n",
    "for row in ask_posts:\n",
    "    created_at = row[6]\n",
    "    num_comments = int(row[4])\n",
    "    \n",
    "    result_list.append([created_at, num_comments])\n",
    "    \n",
    "\n",
    "\n",
    "    \n",
    "counts_by_hour = {}\n",
    "\n",
    "comments_by_hour = {}\n",
    "\n",
    "date_format = \"%m/%d/%Y %H:%M\"  #laying the format of the string that the dates/times are used in this list of lists\n",
    "\n",
    "for row in result_list:\n",
    "    date = row[0]\n",
    "    comment = int(row[1])\n",
    "    hour = dt.datetime.strptime(date, date_format).strftime(\"%H\") #creates a datetime object from the string, pulls the hour value, and reformats the hour as a string\n",
    "    \n",
    "    if hour not in counts_by_hour:\n",
    "        counts_by_hour[hour] = 1\n",
    "        comments_by_hour[hour] = comment\n",
    "    if hour in counts_by_hour:\n",
    "        counts_by_hour[hour] += 1\n",
    "        comments_by_hour[hour] += comment\n",
    "        \n",
    "        \n",
    "        \n",
    "print(\"This is a dictionary of all of the posts that are submitted in a given hour:\")\n",
    "print(counts_by_hour)\n",
    "print('\\n')\n",
    "print(\"This is a dictionary of all the comments that are submitted in a given hour:\")\n",
    "print(comments_by_hour)\n"
   ]
  },
  {
   "cell_type": "markdown",
   "metadata": {},
   "source": [
    "The next step is to calculate the average number of comments per post for any given hour:"
   ]
  },
  {
   "cell_type": "code",
   "execution_count": 6,
   "metadata": {},
   "outputs": [
    {
     "name": "stdout",
     "output_type": "stream",
     "text": [
      "Here is a list of lists displaying the average number of comments for a single ask post that is posted at a certain time:\n",
      "\n",
      "\n",
      "[['02', 11.122222222222222], ['01', 7.392226148409894], ['22', 8.78125], ['21', 8.67437379576108], ['19', 7.151898734177215], ['17', 9.438775510204081], ['15', 28.632148377125194], ['14', 9.673151750972762], ['13', 16.285393258426968], ['11', 8.942492012779553], ['10', 10.646643109540635], ['09', 7.058295964125561], ['07', 7.0], ['03', 7.922794117647059], ['23', 6.6773255813953485], ['20', 8.731898238747554], ['16', 7.7], ['08', 9.182170542635658], ['00', 7.546357615894039], ['18', 7.949593495934959], ['12', 12.361516034985423], ['04', 9.680327868852459], ['06', 6.757446808510639], ['05', 8.752380952380953]]\n"
     ]
    }
   ],
   "source": [
    "avg_by_hour = []\n",
    "\n",
    "for hour in counts_by_hour:\n",
    "    avg_by_hour.append([hour, comments_by_hour[hour]/counts_by_hour[hour]]) #dividing total comments in a given hour by the total posts in a given hour\n",
    "\n",
    "print('Here is a list of lists displaying the average number of comments for a single ask post that is posted at a certain time:')\n",
    "print('\\n')\n",
    "print(avg_by_hour)"
   ]
  },
  {
   "cell_type": "markdown",
   "metadata": {},
   "source": [
    "## Displaying Data"
   ]
  },
  {
   "cell_type": "markdown",
   "metadata": {},
   "source": [
    "Here we will clean up the output of the analysis to better draw conclusions from the data:"
   ]
  },
  {
   "cell_type": "code",
   "execution_count": 7,
   "metadata": {},
   "outputs": [
    {
     "name": "stdout",
     "output_type": "stream",
     "text": [
      "[[11.122222222222222, '02'], [7.392226148409894, '01'], [8.78125, '22'], [8.67437379576108, '21'], [7.151898734177215, '19'], [9.438775510204081, '17'], [28.632148377125194, '15'], [9.673151750972762, '14'], [16.285393258426968, '13'], [8.942492012779553, '11'], [10.646643109540635, '10'], [7.058295964125561, '09'], [7.0, '07'], [7.922794117647059, '03'], [6.6773255813953485, '23'], [8.731898238747554, '20'], [7.7, '16'], [9.182170542635658, '08'], [7.546357615894039, '00'], [7.949593495934959, '18'], [12.361516034985423, '12'], [9.680327868852459, '04'], [6.757446808510639, '06'], [8.752380952380953, '05']]\n",
      "[[28.632148377125194, '15'], [16.285393258426968, '13'], [12.361516034985423, '12'], [11.122222222222222, '02'], [10.646643109540635, '10'], [9.680327868852459, '04'], [9.673151750972762, '14'], [9.438775510204081, '17'], [9.182170542635658, '08'], [8.942492012779553, '11'], [8.78125, '22'], [8.752380952380953, '05'], [8.731898238747554, '20'], [8.67437379576108, '21'], [7.949593495934959, '18'], [7.922794117647059, '03'], [7.7, '16'], [7.546357615894039, '00'], [7.392226148409894, '01'], [7.151898734177215, '19'], [7.058295964125561, '09'], [7.0, '07'], [6.757446808510639, '06'], [6.6773255813953485, '23']]\n"
     ]
    }
   ],
   "source": [
    "swap_avg_by_hour = []\n",
    "\n",
    "for row in avg_by_hour:\n",
    "    swap_avg_by_hour.append([row[1], row[0]])\n",
    "    \n",
    "print(swap_avg_by_hour)\n",
    "\n",
    "\n",
    "sorted_swap = sorted(swap_avg_by_hour, reverse=True)\n",
    "\n",
    "print(sorted_swap)"
   ]
  },
  {
   "cell_type": "code",
   "execution_count": 8,
   "metadata": {},
   "outputs": [
    {
     "name": "stdout",
     "output_type": "stream",
     "text": [
      "Top 5 Hours for Ask Post Comments:\n",
      "15:00 : 28.63 average comments per post \n",
      "13:00 : 16.29 average comments per post \n",
      "12:00 : 12.36 average comments per post \n",
      "02:00 : 11.12 average comments per post \n",
      "10:00 : 10.65 average comments per post \n"
     ]
    }
   ],
   "source": [
    "#sorting the top 5 comments and reformatting the output\n",
    "\n",
    "print('Top 5 Hours for Ask Post Comments:')\n",
    "\n",
    "\n",
    "for row in sorted_swap[:5]:\n",
    "    output = dt.datetime.strptime(row[1], \"%H\")\n",
    "    output = output.strftime(\"%H:%M\")\n",
    "    \n",
    "    print(\"{a} : {b:.2f} average comments per post \".format(a=output, b=row[0]))\n"
   ]
  },
  {
   "cell_type": "markdown",
   "metadata": {},
   "source": [
    "## Conclusion\n",
    "\n",
    "According to the results, the best time to post an ask question to Hacker News (hour with the most average comments) is 3:00pm EST.  For CT that would be 2:00pm."
   ]
  }
 ],
 "metadata": {
  "kernelspec": {
   "display_name": "Python 3",
   "language": "python",
   "name": "python3"
  },
  "language_info": {
   "codemirror_mode": {
    "name": "ipython",
    "version": 3
   },
   "file_extension": ".py",
   "mimetype": "text/x-python",
   "name": "python",
   "nbconvert_exporter": "python",
   "pygments_lexer": "ipython3",
   "version": "3.7.6"
  }
 },
 "nbformat": 4,
 "nbformat_minor": 4
}
